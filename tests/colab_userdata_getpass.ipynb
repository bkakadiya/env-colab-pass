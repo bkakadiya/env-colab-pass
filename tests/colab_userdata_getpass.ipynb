{
  "cells": [
    {
      "cell_type": "code",
      "execution_count": null,
      "metadata": {
        "id": "HCZGRM0wulw3"
      },
      "outputs": [],
      "source": [
        "!pip install env-colab-pass"
      ]
    },
    {
      "cell_type": "code",
      "execution_count": null,
      "metadata": {
        "id": "3p3hZ5qFgRRz"
      },
      "outputs": [],
      "source": [
        "from env_colab_pass import passutil\n",
        "import os"
      ]
    },
    {
      "cell_type": "code",
      "execution_count": null,
      "metadata": {
        "id": "nOV1CvbWgXXc"
      },
      "outputs": [],
      "source": [
        "os.environ['TEMP'] = '/usr/temp'"
      ]
    },
    {
      "cell_type": "code",
      "execution_count": null,
      "metadata": {
        "id": "ZyqZ_ooCf7mV"
      },
      "outputs": [],
      "source": [
        "## Read env variable, can be used when running on a developer box\n",
        "key_name = \"TEMP\"\n",
        "value = passutil.get_secret_value(key_name)\n",
        "print(f\"The value for {key_name} is: {value}\")\n"
      ]
    },
    {
      "cell_type": "code",
      "execution_count": null,
      "metadata": {
        "id": "efrQho2QpbZ8"
      },
      "outputs": [],
      "source": [
        "## Read from colab userdata\n",
        "key_name = \"KEY_FROM_COLAB\"\n",
        "value = passutil.get_secret_value(key_name)\n",
        "print(f\"The value for {key_name} is: {value}\")"
      ]
    },
    {
      "cell_type": "code",
      "execution_count": null,
      "metadata": {
        "id": "m5I4jU7NpgML"
      },
      "outputs": [],
      "source": [
        "### This will ask to grant access on colab userdata\n",
        "key_name = \"ANOTHER_KEY_NO_ACCESS\"\n",
        "value = passutil.get_secret_value(key_name)\n",
        "print(f\"The value for {key_name} is: {value}\")"
      ]
    },
    {
      "cell_type": "code",
      "execution_count": null,
      "metadata": {
        "id": "X9FfZ5WOpiDx"
      },
      "outputs": [],
      "source": [
        "## ask for value for new key\n",
        "key_name = \"NEW_USER_SPECIFIC_KEY\"\n",
        "value = passutil.get_secret_value(key_name)\n",
        "print(f\"The value for {key_name} is: {value}\")"
      ]
    }
  ],
  "metadata": {
    "colab": {
      "provenance": []
    },
    "kernelspec": {
      "display_name": "Python 3",
      "name": "python3"
    },
    "language_info": {
      "codemirror_mode": {
        "name": "ipython",
        "version": 3
      },
      "file_extension": ".py",
      "mimetype": "text/x-python",
      "name": "python",
      "nbconvert_exporter": "python",
      "pygments_lexer": "ipython3",
      "version": "3.11.4"
    }
  },
  "nbformat": 4,
  "nbformat_minor": 0
}
